{
  "nbformat": 4,
  "nbformat_minor": 0,
  "metadata": {
    "colab": {
      "name": "Machine Learning Model - Final Project.ipynb",
      "provenance": []
    },
    "kernelspec": {
      "name": "python3",
      "display_name": "Python 3"
    }
  },
  "cells": [
    {
      "cell_type": "markdown",
      "metadata": {
        "id": "3Pw_NrkW-ugk"
      },
      "source": [
        "#Machine Learing Model"
      ]
    },
    {
      "cell_type": "markdown",
      "metadata": {
        "id": "FXkJ2ixA_SP7"
      },
      "source": [
        "This Notebook contains the machine learning model to do with Katey Diniz's Final Project in DATA 301 - Winter 2021 with Dr. Bodwin. "
      ]
    },
    {
      "cell_type": "code",
      "metadata": {
        "id": "_sAeISlq8qif"
      },
      "source": [
        "import pandas as pd\n",
        "import numpy as np\n",
        "import matplotlib.pyplot as plt"
      ],
      "execution_count": 354,
      "outputs": []
    },
    {
      "cell_type": "code",
      "metadata": {
        "id": "ClK7_l43ARXh"
      },
      "source": [
        "df_area_grown = pd.read_csv(\"https://www.dropbox.com/s/5dcdmitmmpo5xkz/df_area_grown.csv?dl=1\")\n",
        "df_area_planted = pd.read_csv(\"https://www.dropbox.com/s/2zb1l0xm9mv7my7/df_area_planted.csv?dl=1\")\n",
        "df_appplications = pd.read_csv(\"https://www.dropbox.com/s/xaqt8v0ihpn57w3/df_applications.csv?dl=1\")\n",
        "df_irrigation = pd.read_csv(\"https://www.dropbox.com/s/9bo2z3acudg4801/df_irrigation.csv?dl=1\")\n",
        "df_Monterey = pd.read_csv(\"https://www.dropbox.com/s/lexay02c3ijcz6c/df_Monterey.csv?dl=1\")\n",
        "df_SantaCruz = pd.read_csv(\"https://www.dropbox.com/s/sgmdu3nabaqm4xw/df_SantaCruz.csv?dl=1\")\n",
        "df_SB = pd.read_csv(\"https://www.dropbox.com/s/x7usc7t360hjq1j/df_SB.csv?dl=1\")\n",
        "df_SLO = pd.read_csv(\"https://www.dropbox.com/s/85qvvq9bvm0je2j/df_SLO.csv?dl=1\")\n",
        "df_Ventura = pd.read_csv(\"https://www.dropbox.com/s/0fp2wse2ftj55kf/df_Ventura.csv?dl=1\")\n",
        "df_weather = pd.read_csv(\"https://www.dropbox.com/s/zgk8q4qk2p2d91r/df_weather.csv?dl=1\")\n",
        "df_yield = pd.read_csv(\"https://www.dropbox.com/s/7n0t5cmkkbsrshy/df_yield.csv?dl=1\") \n",
        "#The reason I intially kept them seperate was so that I did not want to lose any data"
      ],
      "execution_count": 355,
      "outputs": []
    },
    {
      "cell_type": "markdown",
      "metadata": {
        "id": "uCFTAGC0ECO_"
      },
      "source": [
        "The goal will be to predict **yield** using a KNN model. The features that will be analyzed are: df_area_planted, df_applications, df_yield & each dataframe for the the top 5 producing counties. "
      ]
    },
    {
      "cell_type": "code",
      "metadata": {
        "id": "GrJoktBbE12a"
      },
      "source": [
        "df_yield = df_yield.drop(columns=\"Unnamed: 0\")"
      ],
      "execution_count": 356,
      "outputs": []
    },
    {
      "cell_type": "code",
      "metadata": {
        "colab": {
          "base_uri": "https://localhost:8080/"
        },
        "id": "XtDSM8LtHjO2",
        "outputId": "750c497b-8f7c-4d93-85c6-f445eb24542f"
      },
      "source": [
        "df_yield = df_yield[df_yield['reference_period_desc'] == \"YEAR\"]\n",
        "df_yield.year.unique()"
      ],
      "execution_count": 357,
      "outputs": [
        {
          "output_type": "execute_result",
          "data": {
            "text/plain": [
              "array([2019, 2018, 2017, 2016, 2015, 2014, 2013, 2012, 2011, 2010, 2009,\n",
              "       2008, 2007, 2006, 2005, 2004, 2003, 2002, 2001, 2000, 1999, 1998])"
            ]
          },
          "metadata": {
            "tags": []
          },
          "execution_count": 357
        }
      ]
    },
    {
      "cell_type": "code",
      "metadata": {
        "id": "R245nT3BID56"
      },
      "source": [
        "df_area_planted = df_area_planted.drop(columns=\"Unnamed: 0\")"
      ],
      "execution_count": 358,
      "outputs": []
    },
    {
      "cell_type": "code",
      "metadata": {
        "colab": {
          "base_uri": "https://localhost:8080/"
        },
        "id": "7D2nEeA6IhR6",
        "outputId": "5eec6776-847b-4700-a6f5-ba4c29bfe521"
      },
      "source": [
        "df_area_planted = df_area_planted[df_area_planted['reference_period_desc'] == \"YEAR\"]\n",
        "df_area_planted.year.unique()"
      ],
      "execution_count": 359,
      "outputs": [
        {
          "output_type": "execute_result",
          "data": {
            "text/plain": [
              "array([2019, 2018, 2017, 2016, 2015, 2014, 2013, 2012, 2011, 2010, 2009,\n",
              "       2008, 2007, 2006, 2005, 2004, 2003, 2002, 2001, 2000, 1999, 1998])"
            ]
          },
          "metadata": {
            "tags": []
          },
          "execution_count": 359
        }
      ]
    },
    {
      "cell_type": "code",
      "metadata": {
        "colab": {
          "base_uri": "https://localhost:8080/",
          "height": 731
        },
        "id": "PWr9S_JSjNuG",
        "outputId": "9b95d644-9d93-4713-98c7-d976ad22ac1e"
      },
      "source": [
        "df_area_planted"
      ],
      "execution_count": 360,
      "outputs": [
        {
          "output_type": "execute_result",
          "data": {
            "text/html": [
              "<div>\n",
              "<style scoped>\n",
              "    .dataframe tbody tr th:only-of-type {\n",
              "        vertical-align: middle;\n",
              "    }\n",
              "\n",
              "    .dataframe tbody tr th {\n",
              "        vertical-align: top;\n",
              "    }\n",
              "\n",
              "    .dataframe thead th {\n",
              "        text-align: right;\n",
              "    }\n",
              "</style>\n",
              "<table border=\"1\" class=\"dataframe\">\n",
              "  <thead>\n",
              "    <tr style=\"text-align: right;\">\n",
              "      <th></th>\n",
              "      <th>reference_period_desc</th>\n",
              "      <th>unit_desc</th>\n",
              "      <th>year</th>\n",
              "      <th>Value</th>\n",
              "    </tr>\n",
              "  </thead>\n",
              "  <tbody>\n",
              "    <tr>\n",
              "      <th>0</th>\n",
              "      <td>YEAR</td>\n",
              "      <td>ACRES</td>\n",
              "      <td>2019</td>\n",
              "      <td>36000</td>\n",
              "    </tr>\n",
              "    <tr>\n",
              "      <th>1</th>\n",
              "      <td>YEAR</td>\n",
              "      <td>ACRES</td>\n",
              "      <td>2018</td>\n",
              "      <td>35300</td>\n",
              "    </tr>\n",
              "    <tr>\n",
              "      <th>3</th>\n",
              "      <td>YEAR</td>\n",
              "      <td>ACRES</td>\n",
              "      <td>2017</td>\n",
              "      <td>39000</td>\n",
              "    </tr>\n",
              "    <tr>\n",
              "      <th>4</th>\n",
              "      <td>YEAR</td>\n",
              "      <td>ACRES</td>\n",
              "      <td>2016</td>\n",
              "      <td>38500</td>\n",
              "    </tr>\n",
              "    <tr>\n",
              "      <th>5</th>\n",
              "      <td>YEAR</td>\n",
              "      <td>ACRES</td>\n",
              "      <td>2015</td>\n",
              "      <td>40500</td>\n",
              "    </tr>\n",
              "    <tr>\n",
              "      <th>6</th>\n",
              "      <td>YEAR</td>\n",
              "      <td>ACRES</td>\n",
              "      <td>2014</td>\n",
              "      <td>41500</td>\n",
              "    </tr>\n",
              "    <tr>\n",
              "      <th>7</th>\n",
              "      <td>YEAR</td>\n",
              "      <td>ACRES</td>\n",
              "      <td>2013</td>\n",
              "      <td>41500</td>\n",
              "    </tr>\n",
              "    <tr>\n",
              "      <th>8</th>\n",
              "      <td>YEAR</td>\n",
              "      <td>ACRES</td>\n",
              "      <td>2012</td>\n",
              "      <td>39000</td>\n",
              "    </tr>\n",
              "    <tr>\n",
              "      <th>9</th>\n",
              "      <td>YEAR</td>\n",
              "      <td>ACRES</td>\n",
              "      <td>2011</td>\n",
              "      <td>38000</td>\n",
              "    </tr>\n",
              "    <tr>\n",
              "      <th>10</th>\n",
              "      <td>YEAR</td>\n",
              "      <td>ACRES</td>\n",
              "      <td>2010</td>\n",
              "      <td>38600</td>\n",
              "    </tr>\n",
              "    <tr>\n",
              "      <th>11</th>\n",
              "      <td>YEAR</td>\n",
              "      <td>ACRES</td>\n",
              "      <td>2009</td>\n",
              "      <td>39800</td>\n",
              "    </tr>\n",
              "    <tr>\n",
              "      <th>12</th>\n",
              "      <td>YEAR</td>\n",
              "      <td>ACRES</td>\n",
              "      <td>2008</td>\n",
              "      <td>37600</td>\n",
              "    </tr>\n",
              "    <tr>\n",
              "      <th>13</th>\n",
              "      <td>YEAR</td>\n",
              "      <td>ACRES</td>\n",
              "      <td>2007</td>\n",
              "      <td>35500</td>\n",
              "    </tr>\n",
              "    <tr>\n",
              "      <th>14</th>\n",
              "      <td>YEAR</td>\n",
              "      <td>ACRES</td>\n",
              "      <td>2006</td>\n",
              "      <td>35800</td>\n",
              "    </tr>\n",
              "    <tr>\n",
              "      <th>15</th>\n",
              "      <td>YEAR</td>\n",
              "      <td>ACRES</td>\n",
              "      <td>2005</td>\n",
              "      <td>34300</td>\n",
              "    </tr>\n",
              "    <tr>\n",
              "      <th>16</th>\n",
              "      <td>YEAR</td>\n",
              "      <td>ACRES</td>\n",
              "      <td>2004</td>\n",
              "      <td>33200</td>\n",
              "    </tr>\n",
              "    <tr>\n",
              "      <th>17</th>\n",
              "      <td>YEAR</td>\n",
              "      <td>ACRES</td>\n",
              "      <td>2003</td>\n",
              "      <td>29600</td>\n",
              "    </tr>\n",
              "    <tr>\n",
              "      <th>18</th>\n",
              "      <td>YEAR</td>\n",
              "      <td>ACRES</td>\n",
              "      <td>2002</td>\n",
              "      <td>28500</td>\n",
              "    </tr>\n",
              "    <tr>\n",
              "      <th>19</th>\n",
              "      <td>YEAR</td>\n",
              "      <td>ACRES</td>\n",
              "      <td>2001</td>\n",
              "      <td>26400</td>\n",
              "    </tr>\n",
              "    <tr>\n",
              "      <th>20</th>\n",
              "      <td>YEAR</td>\n",
              "      <td>ACRES</td>\n",
              "      <td>2000</td>\n",
              "      <td>27600</td>\n",
              "    </tr>\n",
              "    <tr>\n",
              "      <th>21</th>\n",
              "      <td>YEAR</td>\n",
              "      <td>ACRES</td>\n",
              "      <td>1999</td>\n",
              "      <td>25800</td>\n",
              "    </tr>\n",
              "    <tr>\n",
              "      <th>22</th>\n",
              "      <td>YEAR</td>\n",
              "      <td>ACRES</td>\n",
              "      <td>1998</td>\n",
              "      <td>24200</td>\n",
              "    </tr>\n",
              "  </tbody>\n",
              "</table>\n",
              "</div>"
            ],
            "text/plain": [
              "   reference_period_desc unit_desc  year  Value\n",
              "0                   YEAR     ACRES  2019  36000\n",
              "1                   YEAR     ACRES  2018  35300\n",
              "3                   YEAR     ACRES  2017  39000\n",
              "4                   YEAR     ACRES  2016  38500\n",
              "5                   YEAR     ACRES  2015  40500\n",
              "6                   YEAR     ACRES  2014  41500\n",
              "7                   YEAR     ACRES  2013  41500\n",
              "8                   YEAR     ACRES  2012  39000\n",
              "9                   YEAR     ACRES  2011  38000\n",
              "10                  YEAR     ACRES  2010  38600\n",
              "11                  YEAR     ACRES  2009  39800\n",
              "12                  YEAR     ACRES  2008  37600\n",
              "13                  YEAR     ACRES  2007  35500\n",
              "14                  YEAR     ACRES  2006  35800\n",
              "15                  YEAR     ACRES  2005  34300\n",
              "16                  YEAR     ACRES  2004  33200\n",
              "17                  YEAR     ACRES  2003  29600\n",
              "18                  YEAR     ACRES  2002  28500\n",
              "19                  YEAR     ACRES  2001  26400\n",
              "20                  YEAR     ACRES  2000  27600\n",
              "21                  YEAR     ACRES  1999  25800\n",
              "22                  YEAR     ACRES  1998  24200"
            ]
          },
          "metadata": {
            "tags": []
          },
          "execution_count": 360
        }
      ]
    },
    {
      "cell_type": "code",
      "metadata": {
        "id": "wJD-o2XEIsrZ"
      },
      "source": [
        "df_appplications = df_appplications.drop(columns=\"Unnamed: 0\")"
      ],
      "execution_count": 361,
      "outputs": []
    },
    {
      "cell_type": "code",
      "metadata": {
        "colab": {
          "base_uri": "https://localhost:8080/"
        },
        "id": "SvomPZAfJGCn",
        "outputId": "6d844779-5bdd-4027-ec0f-a03a5d996824"
      },
      "source": [
        "df_appplications[\"Data Item\"].unique()"
      ],
      "execution_count": 362,
      "outputs": [
        {
          "output_type": "execute_result",
          "data": {
            "text/plain": [
              "array([' MEASURED IN LB', ' MEASURED IN LB / ACRE / APPLICATION, AVG',\n",
              "       ' MEASURED IN LB / ACRE / YEAR, AVG', ' MEASURED IN NUMBER, AVG'],\n",
              "      dtype=object)"
            ]
          },
          "metadata": {
            "tags": []
          },
          "execution_count": 362
        }
      ]
    },
    {
      "cell_type": "code",
      "metadata": {
        "colab": {
          "base_uri": "https://localhost:8080/",
          "height": 452
        },
        "id": "Kh1Hi_BtI1Ou",
        "outputId": "00f7d5c3-23a1-445e-f861-8d1699943b7e"
      },
      "source": [
        "df_appplications = df_appplications[df_appplications['Data Item'] == \" MEASURED IN LB\"]\n",
        "df_appplications_byYear = df_appplications.groupby(\"Year\")[\"Value\"].sum().to_frame()\n",
        "df_appplications_byYear.index\n",
        "df_appplications_byYear.reset_index()"
      ],
      "execution_count": 363,
      "outputs": [
        {
          "output_type": "execute_result",
          "data": {
            "text/html": [
              "<div>\n",
              "<style scoped>\n",
              "    .dataframe tbody tr th:only-of-type {\n",
              "        vertical-align: middle;\n",
              "    }\n",
              "\n",
              "    .dataframe tbody tr th {\n",
              "        vertical-align: top;\n",
              "    }\n",
              "\n",
              "    .dataframe thead th {\n",
              "        text-align: right;\n",
              "    }\n",
              "</style>\n",
              "<table border=\"1\" class=\"dataframe\">\n",
              "  <thead>\n",
              "    <tr style=\"text-align: right;\">\n",
              "      <th></th>\n",
              "      <th>Year</th>\n",
              "      <th>Value</th>\n",
              "    </tr>\n",
              "  </thead>\n",
              "  <tbody>\n",
              "    <tr>\n",
              "      <th>0</th>\n",
              "      <td>1992</td>\n",
              "      <td>15030500.0</td>\n",
              "    </tr>\n",
              "    <tr>\n",
              "      <th>1</th>\n",
              "      <td>1994</td>\n",
              "      <td>23430100.0</td>\n",
              "    </tr>\n",
              "    <tr>\n",
              "      <th>2</th>\n",
              "      <td>1996</td>\n",
              "      <td>15542800.0</td>\n",
              "    </tr>\n",
              "    <tr>\n",
              "      <th>3</th>\n",
              "      <td>1998</td>\n",
              "      <td>20685900.0</td>\n",
              "    </tr>\n",
              "    <tr>\n",
              "      <th>4</th>\n",
              "      <td>2000</td>\n",
              "      <td>14299600.0</td>\n",
              "    </tr>\n",
              "    <tr>\n",
              "      <th>5</th>\n",
              "      <td>2002</td>\n",
              "      <td>29149700.0</td>\n",
              "    </tr>\n",
              "    <tr>\n",
              "      <th>6</th>\n",
              "      <td>2004</td>\n",
              "      <td>7476500.0</td>\n",
              "    </tr>\n",
              "    <tr>\n",
              "      <th>7</th>\n",
              "      <td>2006</td>\n",
              "      <td>33052500.0</td>\n",
              "    </tr>\n",
              "    <tr>\n",
              "      <th>8</th>\n",
              "      <td>2010</td>\n",
              "      <td>28210700.0</td>\n",
              "    </tr>\n",
              "    <tr>\n",
              "      <th>9</th>\n",
              "      <td>2014</td>\n",
              "      <td>34366200.0</td>\n",
              "    </tr>\n",
              "    <tr>\n",
              "      <th>10</th>\n",
              "      <td>2016</td>\n",
              "      <td>16017600.0</td>\n",
              "    </tr>\n",
              "    <tr>\n",
              "      <th>11</th>\n",
              "      <td>2018</td>\n",
              "      <td>37853100.0</td>\n",
              "    </tr>\n",
              "    <tr>\n",
              "      <th>12</th>\n",
              "      <td>2019</td>\n",
              "      <td>19939400.0</td>\n",
              "    </tr>\n",
              "  </tbody>\n",
              "</table>\n",
              "</div>"
            ],
            "text/plain": [
              "    Year       Value\n",
              "0   1992  15030500.0\n",
              "1   1994  23430100.0\n",
              "2   1996  15542800.0\n",
              "3   1998  20685900.0\n",
              "4   2000  14299600.0\n",
              "5   2002  29149700.0\n",
              "6   2004   7476500.0\n",
              "7   2006  33052500.0\n",
              "8   2010  28210700.0\n",
              "9   2014  34366200.0\n",
              "10  2016  16017600.0\n",
              "11  2018  37853100.0\n",
              "12  2019  19939400.0"
            ]
          },
          "metadata": {
            "tags": []
          },
          "execution_count": 363
        }
      ]
    },
    {
      "cell_type": "code",
      "metadata": {
        "colab": {
          "base_uri": "https://localhost:8080/"
        },
        "id": "V7SVEcORMcVV",
        "outputId": "da76fee6-eead-4d13-dc21-ca6f33ddb877"
      },
      "source": [
        "df_appsGT0 = df_appplications[df_appplications['Value'] > 0]\n",
        "df_appsGT0 = df_appsGT0[df_appsGT0[\"Chemical Name\"] != \"TOTAL\"]\n",
        "df_appsGT0.groupby(\"Chemical Name\")[\"Value\"].sum().sort_values(ascending=False) #Will see if top Chemicals have an effect on KNN"
      ],
      "execution_count": 364,
      "outputs": [
        {
          "output_type": "execute_result",
          "data": {
            "text/plain": [
              "Chemical Name\n",
              "NITROGEN                        52590000.0\n",
              "CHLOROPICRIN = 81501            41213100.0\n",
              "POTASH                          34340000.0\n",
              "METHYL BROMIDE = 53201          29883100.0\n",
              "PHOSPHATE                       25879000.0\n",
              "                                   ...    \n",
              "BORAX DECAHYDRATE = 11102            500.0\n",
              "PYRIPROXYFEN = 129032                300.0\n",
              "CARFENTRAZONE-ETHYL = 128712         200.0\n",
              "IRON PHOSPHATE = 34903               100.0\n",
              "HARPIN PROTEIN = 6477                100.0\n",
              "Name: Value, Length: 97, dtype: float64"
            ]
          },
          "metadata": {
            "tags": []
          },
          "execution_count": 364
        }
      ]
    },
    {
      "cell_type": "code",
      "metadata": {
        "colab": {
          "base_uri": "https://localhost:8080/",
          "height": 419
        },
        "id": "LaBekPCdKEA9",
        "outputId": "8ef14f7b-80bc-484a-93fc-e884e944455d"
      },
      "source": [
        "df_hold = df_appplications.groupby([\"Chemical Name\", \"Year\"])[\"Value\"].sum().to_frame()\n",
        "df_hold.reset_index(level=[\"Chemical Name\", \"Year\"]) #This won't work because it won't line up with other dataframes:("
      ],
      "execution_count": 365,
      "outputs": [
        {
          "output_type": "execute_result",
          "data": {
            "text/html": [
              "<div>\n",
              "<style scoped>\n",
              "    .dataframe tbody tr th:only-of-type {\n",
              "        vertical-align: middle;\n",
              "    }\n",
              "\n",
              "    .dataframe tbody tr th {\n",
              "        vertical-align: top;\n",
              "    }\n",
              "\n",
              "    .dataframe thead th {\n",
              "        text-align: right;\n",
              "    }\n",
              "</style>\n",
              "<table border=\"1\" class=\"dataframe\">\n",
              "  <thead>\n",
              "    <tr style=\"text-align: right;\">\n",
              "      <th></th>\n",
              "      <th>Chemical Name</th>\n",
              "      <th>Year</th>\n",
              "      <th>Value</th>\n",
              "    </tr>\n",
              "  </thead>\n",
              "  <tbody>\n",
              "    <tr>\n",
              "      <th>0</th>\n",
              "      <td>ABAMECTIN = 122804</td>\n",
              "      <td>1992</td>\n",
              "      <td>500.0</td>\n",
              "    </tr>\n",
              "    <tr>\n",
              "      <th>1</th>\n",
              "      <td>ABAMECTIN = 122804</td>\n",
              "      <td>1994</td>\n",
              "      <td>700.0</td>\n",
              "    </tr>\n",
              "    <tr>\n",
              "      <th>2</th>\n",
              "      <td>ABAMECTIN = 122804</td>\n",
              "      <td>1996</td>\n",
              "      <td>800.0</td>\n",
              "    </tr>\n",
              "    <tr>\n",
              "      <th>3</th>\n",
              "      <td>ABAMECTIN = 122804</td>\n",
              "      <td>1998</td>\n",
              "      <td>600.0</td>\n",
              "    </tr>\n",
              "    <tr>\n",
              "      <th>4</th>\n",
              "      <td>ABAMECTIN = 122804</td>\n",
              "      <td>2000</td>\n",
              "      <td>400.0</td>\n",
              "    </tr>\n",
              "    <tr>\n",
              "      <th>...</th>\n",
              "      <td>...</td>\n",
              "      <td>...</td>\n",
              "      <td>...</td>\n",
              "    </tr>\n",
              "    <tr>\n",
              "      <th>760</th>\n",
              "      <td>VINCLOZOLIN = 113201</td>\n",
              "      <td>1992</td>\n",
              "      <td>18800.0</td>\n",
              "    </tr>\n",
              "    <tr>\n",
              "      <th>761</th>\n",
              "      <td>VINCLOZOLIN = 113201</td>\n",
              "      <td>1994</td>\n",
              "      <td>5000.0</td>\n",
              "    </tr>\n",
              "    <tr>\n",
              "      <th>762</th>\n",
              "      <td>VINCLOZOLIN = 113201</td>\n",
              "      <td>1996</td>\n",
              "      <td>21400.0</td>\n",
              "    </tr>\n",
              "    <tr>\n",
              "      <th>763</th>\n",
              "      <td>VINCLOZOLIN = 113201</td>\n",
              "      <td>1998</td>\n",
              "      <td>13000.0</td>\n",
              "    </tr>\n",
              "    <tr>\n",
              "      <th>764</th>\n",
              "      <td>ZETA-CYPERMETHRIN = 129064</td>\n",
              "      <td>2019</td>\n",
              "      <td>0.0</td>\n",
              "    </tr>\n",
              "  </tbody>\n",
              "</table>\n",
              "<p>765 rows × 3 columns</p>\n",
              "</div>"
            ],
            "text/plain": [
              "                  Chemical Name  Year    Value\n",
              "0            ABAMECTIN = 122804  1992    500.0\n",
              "1            ABAMECTIN = 122804  1994    700.0\n",
              "2            ABAMECTIN = 122804  1996    800.0\n",
              "3            ABAMECTIN = 122804  1998    600.0\n",
              "4            ABAMECTIN = 122804  2000    400.0\n",
              "..                          ...   ...      ...\n",
              "760        VINCLOZOLIN = 113201  1992  18800.0\n",
              "761        VINCLOZOLIN = 113201  1994   5000.0\n",
              "762        VINCLOZOLIN = 113201  1996  21400.0\n",
              "763        VINCLOZOLIN = 113201  1998  13000.0\n",
              "764  ZETA-CYPERMETHRIN = 129064  2019      0.0\n",
              "\n",
              "[765 rows x 3 columns]"
            ]
          },
          "metadata": {
            "tags": []
          },
          "execution_count": 365
        }
      ]
    },
    {
      "cell_type": "code",
      "metadata": {
        "colab": {
          "base_uri": "https://localhost:8080/",
          "height": 444
        },
        "id": "4Ca5kfJ1Sy2u",
        "outputId": "f2406626-4c26-4298-c527-c9560f048d10"
      },
      "source": [
        "df_Monterey.index = pd.to_datetime(df_Monterey[\"DATE\"], format='%Y-%m')\n",
        "df_Monterey = df_Monterey.dropna()\n",
        "dateTime = df_Monterey.index\n",
        "df_Monterey_year = df_Monterey.groupby(dateTime.year)[\"PRCP\", \"TMAX\", \"TAVG\", \"TMIN\"].mean()\n",
        "df_Monterey_year.reset_index()"
      ],
      "execution_count": 366,
      "outputs": [
        {
          "output_type": "stream",
          "text": [
            "/usr/local/lib/python3.7/dist-packages/ipykernel_launcher.py:4: FutureWarning: Indexing with multiple keys (implicitly converted to a tuple of keys) will be deprecated, use a list instead.\n",
            "  after removing the cwd from sys.path.\n"
          ],
          "name": "stderr"
        },
        {
          "output_type": "execute_result",
          "data": {
            "text/html": [
              "<div>\n",
              "<style scoped>\n",
              "    .dataframe tbody tr th:only-of-type {\n",
              "        vertical-align: middle;\n",
              "    }\n",
              "\n",
              "    .dataframe tbody tr th {\n",
              "        vertical-align: top;\n",
              "    }\n",
              "\n",
              "    .dataframe thead th {\n",
              "        text-align: right;\n",
              "    }\n",
              "</style>\n",
              "<table border=\"1\" class=\"dataframe\">\n",
              "  <thead>\n",
              "    <tr style=\"text-align: right;\">\n",
              "      <th></th>\n",
              "      <th>DATE</th>\n",
              "      <th>PRCP</th>\n",
              "      <th>TMAX</th>\n",
              "      <th>TAVG</th>\n",
              "      <th>TMIN</th>\n",
              "    </tr>\n",
              "  </thead>\n",
              "  <tbody>\n",
              "    <tr>\n",
              "      <th>0</th>\n",
              "      <td>2008</td>\n",
              "      <td>29.326667</td>\n",
              "      <td>19.907222</td>\n",
              "      <td>13.990444</td>\n",
              "      <td>8.074333</td>\n",
              "    </tr>\n",
              "    <tr>\n",
              "      <th>1</th>\n",
              "      <td>2009</td>\n",
              "      <td>37.060440</td>\n",
              "      <td>19.996374</td>\n",
              "      <td>14.205714</td>\n",
              "      <td>8.413516</td>\n",
              "    </tr>\n",
              "    <tr>\n",
              "      <th>2</th>\n",
              "      <td>2010</td>\n",
              "      <td>51.920238</td>\n",
              "      <td>18.859286</td>\n",
              "      <td>13.699762</td>\n",
              "      <td>8.540119</td>\n",
              "    </tr>\n",
              "    <tr>\n",
              "      <th>3</th>\n",
              "      <td>2011</td>\n",
              "      <td>26.161702</td>\n",
              "      <td>19.265319</td>\n",
              "      <td>14.146383</td>\n",
              "      <td>9.026809</td>\n",
              "    </tr>\n",
              "    <tr>\n",
              "      <th>4</th>\n",
              "      <td>2012</td>\n",
              "      <td>42.198413</td>\n",
              "      <td>19.313175</td>\n",
              "      <td>13.996508</td>\n",
              "      <td>8.680476</td>\n",
              "    </tr>\n",
              "    <tr>\n",
              "      <th>5</th>\n",
              "      <td>2013</td>\n",
              "      <td>9.114737</td>\n",
              "      <td>20.316526</td>\n",
              "      <td>14.104000</td>\n",
              "      <td>7.891474</td>\n",
              "    </tr>\n",
              "    <tr>\n",
              "      <th>6</th>\n",
              "      <td>2014</td>\n",
              "      <td>41.724211</td>\n",
              "      <td>21.428316</td>\n",
              "      <td>15.654737</td>\n",
              "      <td>9.880000</td>\n",
              "    </tr>\n",
              "    <tr>\n",
              "      <th>7</th>\n",
              "      <td>2015</td>\n",
              "      <td>21.431522</td>\n",
              "      <td>21.490435</td>\n",
              "      <td>15.554130</td>\n",
              "      <td>9.619130</td>\n",
              "    </tr>\n",
              "    <tr>\n",
              "      <th>8</th>\n",
              "      <td>2016</td>\n",
              "      <td>44.132955</td>\n",
              "      <td>20.473068</td>\n",
              "      <td>14.833750</td>\n",
              "      <td>9.193636</td>\n",
              "    </tr>\n",
              "    <tr>\n",
              "      <th>9</th>\n",
              "      <td>2017</td>\n",
              "      <td>36.543210</td>\n",
              "      <td>21.425926</td>\n",
              "      <td>15.321481</td>\n",
              "      <td>9.215802</td>\n",
              "    </tr>\n",
              "    <tr>\n",
              "      <th>10</th>\n",
              "      <td>2018</td>\n",
              "      <td>36.192857</td>\n",
              "      <td>20.501667</td>\n",
              "      <td>14.628690</td>\n",
              "      <td>8.755357</td>\n",
              "    </tr>\n",
              "  </tbody>\n",
              "</table>\n",
              "</div>"
            ],
            "text/plain": [
              "    DATE       PRCP       TMAX       TAVG      TMIN\n",
              "0   2008  29.326667  19.907222  13.990444  8.074333\n",
              "1   2009  37.060440  19.996374  14.205714  8.413516\n",
              "2   2010  51.920238  18.859286  13.699762  8.540119\n",
              "3   2011  26.161702  19.265319  14.146383  9.026809\n",
              "4   2012  42.198413  19.313175  13.996508  8.680476\n",
              "5   2013   9.114737  20.316526  14.104000  7.891474\n",
              "6   2014  41.724211  21.428316  15.654737  9.880000\n",
              "7   2015  21.431522  21.490435  15.554130  9.619130\n",
              "8   2016  44.132955  20.473068  14.833750  9.193636\n",
              "9   2017  36.543210  21.425926  15.321481  9.215802\n",
              "10  2018  36.192857  20.501667  14.628690  8.755357"
            ]
          },
          "metadata": {
            "tags": []
          },
          "execution_count": 366
        }
      ]
    },
    {
      "cell_type": "code",
      "metadata": {
        "colab": {
          "base_uri": "https://localhost:8080/",
          "height": 444
        },
        "id": "p5Syq6DLgoWl",
        "outputId": "101faf19-d761-4b30-ec33-062ac55f2575"
      },
      "source": [
        "df_SLO.index = pd.to_datetime(df_SLO[\"DATE\"], format='%Y-%m')\n",
        "df_SLO = df_SLO.dropna()\n",
        "dateTime = df_SLO.index\n",
        "df_SLO_year = df_SLO.groupby(dateTime.year)[\"PRCP\", \"TMAX\", \"TAVG\", \"TMIN\"].mean()\n",
        "df_SLO_year.reset_index()"
      ],
      "execution_count": 367,
      "outputs": [
        {
          "output_type": "stream",
          "text": [
            "/usr/local/lib/python3.7/dist-packages/ipykernel_launcher.py:4: FutureWarning: Indexing with multiple keys (implicitly converted to a tuple of keys) will be deprecated, use a list instead.\n",
            "  after removing the cwd from sys.path.\n"
          ],
          "name": "stderr"
        },
        {
          "output_type": "execute_result",
          "data": {
            "text/html": [
              "<div>\n",
              "<style scoped>\n",
              "    .dataframe tbody tr th:only-of-type {\n",
              "        vertical-align: middle;\n",
              "    }\n",
              "\n",
              "    .dataframe tbody tr th {\n",
              "        vertical-align: top;\n",
              "    }\n",
              "\n",
              "    .dataframe thead th {\n",
              "        text-align: right;\n",
              "    }\n",
              "</style>\n",
              "<table border=\"1\" class=\"dataframe\">\n",
              "  <thead>\n",
              "    <tr style=\"text-align: right;\">\n",
              "      <th></th>\n",
              "      <th>DATE</th>\n",
              "      <th>PRCP</th>\n",
              "      <th>TMAX</th>\n",
              "      <th>TAVG</th>\n",
              "      <th>TMIN</th>\n",
              "    </tr>\n",
              "  </thead>\n",
              "  <tbody>\n",
              "    <tr>\n",
              "      <th>0</th>\n",
              "      <td>2008</td>\n",
              "      <td>34.486111</td>\n",
              "      <td>22.996667</td>\n",
              "      <td>15.471944</td>\n",
              "      <td>7.945833</td>\n",
              "    </tr>\n",
              "    <tr>\n",
              "      <th>1</th>\n",
              "      <td>2009</td>\n",
              "      <td>30.576316</td>\n",
              "      <td>22.848421</td>\n",
              "      <td>15.324605</td>\n",
              "      <td>7.800263</td>\n",
              "    </tr>\n",
              "    <tr>\n",
              "      <th>2</th>\n",
              "      <td>2010</td>\n",
              "      <td>62.084000</td>\n",
              "      <td>21.374667</td>\n",
              "      <td>14.630933</td>\n",
              "      <td>7.887467</td>\n",
              "    </tr>\n",
              "    <tr>\n",
              "      <th>3</th>\n",
              "      <td>2011</td>\n",
              "      <td>37.720225</td>\n",
              "      <td>22.340337</td>\n",
              "      <td>15.057865</td>\n",
              "      <td>7.775056</td>\n",
              "    </tr>\n",
              "    <tr>\n",
              "      <th>4</th>\n",
              "      <td>2012</td>\n",
              "      <td>37.569388</td>\n",
              "      <td>23.927449</td>\n",
              "      <td>16.190000</td>\n",
              "      <td>8.452449</td>\n",
              "    </tr>\n",
              "    <tr>\n",
              "      <th>5</th>\n",
              "      <td>2013</td>\n",
              "      <td>8.400926</td>\n",
              "      <td>24.261296</td>\n",
              "      <td>16.098704</td>\n",
              "      <td>7.935833</td>\n",
              "    </tr>\n",
              "    <tr>\n",
              "      <th>6</th>\n",
              "      <td>2014</td>\n",
              "      <td>31.387963</td>\n",
              "      <td>24.659444</td>\n",
              "      <td>16.969907</td>\n",
              "      <td>9.280278</td>\n",
              "    </tr>\n",
              "    <tr>\n",
              "      <th>7</th>\n",
              "      <td>2015</td>\n",
              "      <td>20.313542</td>\n",
              "      <td>24.111250</td>\n",
              "      <td>16.545313</td>\n",
              "      <td>8.978854</td>\n",
              "    </tr>\n",
              "    <tr>\n",
              "      <th>8</th>\n",
              "      <td>2016</td>\n",
              "      <td>40.264615</td>\n",
              "      <td>23.789846</td>\n",
              "      <td>16.486154</td>\n",
              "      <td>9.181846</td>\n",
              "    </tr>\n",
              "    <tr>\n",
              "      <th>9</th>\n",
              "      <td>2017</td>\n",
              "      <td>55.574242</td>\n",
              "      <td>24.034848</td>\n",
              "      <td>16.717121</td>\n",
              "      <td>9.398788</td>\n",
              "    </tr>\n",
              "    <tr>\n",
              "      <th>10</th>\n",
              "      <td>2018</td>\n",
              "      <td>35.865714</td>\n",
              "      <td>23.726143</td>\n",
              "      <td>16.310429</td>\n",
              "      <td>8.895286</td>\n",
              "    </tr>\n",
              "  </tbody>\n",
              "</table>\n",
              "</div>"
            ],
            "text/plain": [
              "    DATE       PRCP       TMAX       TAVG      TMIN\n",
              "0   2008  34.486111  22.996667  15.471944  7.945833\n",
              "1   2009  30.576316  22.848421  15.324605  7.800263\n",
              "2   2010  62.084000  21.374667  14.630933  7.887467\n",
              "3   2011  37.720225  22.340337  15.057865  7.775056\n",
              "4   2012  37.569388  23.927449  16.190000  8.452449\n",
              "5   2013   8.400926  24.261296  16.098704  7.935833\n",
              "6   2014  31.387963  24.659444  16.969907  9.280278\n",
              "7   2015  20.313542  24.111250  16.545313  8.978854\n",
              "8   2016  40.264615  23.789846  16.486154  9.181846\n",
              "9   2017  55.574242  24.034848  16.717121  9.398788\n",
              "10  2018  35.865714  23.726143  16.310429  8.895286"
            ]
          },
          "metadata": {
            "tags": []
          },
          "execution_count": 367
        }
      ]
    },
    {
      "cell_type": "code",
      "metadata": {
        "colab": {
          "base_uri": "https://localhost:8080/",
          "height": 444
        },
        "id": "XRPDP1idgpA2",
        "outputId": "55b20ed0-2b3a-4ea4-800f-d880982d561e"
      },
      "source": [
        "df_SantaCruz.index = pd.to_datetime(df_SantaCruz[\"DATE\"], format='%Y-%m')\n",
        "df_SantaCruz = df_SantaCruz.dropna()\n",
        "dateTime = df_SantaCruz.index\n",
        "df_SantaCruz_year = df_SantaCruz.groupby(dateTime.year)[\"PRCP\", \"TMAX\", \"TAVG\", \"TMIN\"].mean()\n",
        "df_SantaCruz_year.reset_index()"
      ],
      "execution_count": 368,
      "outputs": [
        {
          "output_type": "stream",
          "text": [
            "/usr/local/lib/python3.7/dist-packages/ipykernel_launcher.py:4: FutureWarning: Indexing with multiple keys (implicitly converted to a tuple of keys) will be deprecated, use a list instead.\n",
            "  after removing the cwd from sys.path.\n"
          ],
          "name": "stderr"
        },
        {
          "output_type": "execute_result",
          "data": {
            "text/html": [
              "<div>\n",
              "<style scoped>\n",
              "    .dataframe tbody tr th:only-of-type {\n",
              "        vertical-align: middle;\n",
              "    }\n",
              "\n",
              "    .dataframe tbody tr th {\n",
              "        vertical-align: top;\n",
              "    }\n",
              "\n",
              "    .dataframe thead th {\n",
              "        text-align: right;\n",
              "    }\n",
              "</style>\n",
              "<table border=\"1\" class=\"dataframe\">\n",
              "  <thead>\n",
              "    <tr style=\"text-align: right;\">\n",
              "      <th></th>\n",
              "      <th>DATE</th>\n",
              "      <th>PRCP</th>\n",
              "      <th>TMAX</th>\n",
              "      <th>TAVG</th>\n",
              "      <th>TMIN</th>\n",
              "    </tr>\n",
              "  </thead>\n",
              "  <tbody>\n",
              "    <tr>\n",
              "      <th>0</th>\n",
              "      <td>2008</td>\n",
              "      <td>49.885417</td>\n",
              "      <td>20.983542</td>\n",
              "      <td>14.174375</td>\n",
              "      <td>7.366042</td>\n",
              "    </tr>\n",
              "    <tr>\n",
              "      <th>1</th>\n",
              "      <td>2009</td>\n",
              "      <td>54.464583</td>\n",
              "      <td>20.872083</td>\n",
              "      <td>14.318750</td>\n",
              "      <td>7.765417</td>\n",
              "    </tr>\n",
              "    <tr>\n",
              "      <th>2</th>\n",
              "      <td>2010</td>\n",
              "      <td>80.952083</td>\n",
              "      <td>19.972500</td>\n",
              "      <td>13.950208</td>\n",
              "      <td>7.926667</td>\n",
              "    </tr>\n",
              "    <tr>\n",
              "      <th>3</th>\n",
              "      <td>2011</td>\n",
              "      <td>40.394118</td>\n",
              "      <td>19.895294</td>\n",
              "      <td>13.857647</td>\n",
              "      <td>7.817059</td>\n",
              "    </tr>\n",
              "    <tr>\n",
              "      <th>4</th>\n",
              "      <td>2012</td>\n",
              "      <td>64.176923</td>\n",
              "      <td>21.306410</td>\n",
              "      <td>14.825128</td>\n",
              "      <td>8.342564</td>\n",
              "    </tr>\n",
              "    <tr>\n",
              "      <th>5</th>\n",
              "      <td>2013</td>\n",
              "      <td>10.489583</td>\n",
              "      <td>22.507708</td>\n",
              "      <td>14.884375</td>\n",
              "      <td>7.259792</td>\n",
              "    </tr>\n",
              "    <tr>\n",
              "      <th>6</th>\n",
              "      <td>2014</td>\n",
              "      <td>64.379167</td>\n",
              "      <td>23.086875</td>\n",
              "      <td>16.104792</td>\n",
              "      <td>9.123750</td>\n",
              "    </tr>\n",
              "    <tr>\n",
              "      <th>7</th>\n",
              "      <td>2015</td>\n",
              "      <td>32.680851</td>\n",
              "      <td>23.498085</td>\n",
              "      <td>15.933830</td>\n",
              "      <td>8.366809</td>\n",
              "    </tr>\n",
              "    <tr>\n",
              "      <th>8</th>\n",
              "      <td>2016</td>\n",
              "      <td>74.310870</td>\n",
              "      <td>22.010217</td>\n",
              "      <td>15.588696</td>\n",
              "      <td>9.166957</td>\n",
              "    </tr>\n",
              "    <tr>\n",
              "      <th>9</th>\n",
              "      <td>2017</td>\n",
              "      <td>108.467500</td>\n",
              "      <td>22.327750</td>\n",
              "      <td>15.290000</td>\n",
              "      <td>8.253750</td>\n",
              "    </tr>\n",
              "    <tr>\n",
              "      <th>10</th>\n",
              "      <td>2018</td>\n",
              "      <td>47.541860</td>\n",
              "      <td>22.316512</td>\n",
              "      <td>15.147674</td>\n",
              "      <td>7.979535</td>\n",
              "    </tr>\n",
              "  </tbody>\n",
              "</table>\n",
              "</div>"
            ],
            "text/plain": [
              "    DATE        PRCP       TMAX       TAVG      TMIN\n",
              "0   2008   49.885417  20.983542  14.174375  7.366042\n",
              "1   2009   54.464583  20.872083  14.318750  7.765417\n",
              "2   2010   80.952083  19.972500  13.950208  7.926667\n",
              "3   2011   40.394118  19.895294  13.857647  7.817059\n",
              "4   2012   64.176923  21.306410  14.825128  8.342564\n",
              "5   2013   10.489583  22.507708  14.884375  7.259792\n",
              "6   2014   64.379167  23.086875  16.104792  9.123750\n",
              "7   2015   32.680851  23.498085  15.933830  8.366809\n",
              "8   2016   74.310870  22.010217  15.588696  9.166957\n",
              "9   2017  108.467500  22.327750  15.290000  8.253750\n",
              "10  2018   47.541860  22.316512  15.147674  7.979535"
            ]
          },
          "metadata": {
            "tags": []
          },
          "execution_count": 368
        }
      ]
    },
    {
      "cell_type": "code",
      "metadata": {
        "colab": {
          "base_uri": "https://localhost:8080/",
          "height": 444
        },
        "id": "r65V5E9cgpXU",
        "outputId": "c75eceab-edcf-4f66-ec41-f815581802d6"
      },
      "source": [
        "df_Ventura.index = pd.to_datetime(df_Ventura[\"DATE\"], format='%Y-%m')\n",
        "df_Ventura = df_Ventura.dropna()\n",
        "dateTime = df_Ventura.index\n",
        "df_Ventura_year = df_Ventura.groupby(dateTime.year)[\"PRCP\", \"TMAX\", \"TAVG\", \"TMIN\"].mean()\n",
        "df_Ventura_year.reset_index()"
      ],
      "execution_count": 369,
      "outputs": [
        {
          "output_type": "stream",
          "text": [
            "/usr/local/lib/python3.7/dist-packages/ipykernel_launcher.py:4: FutureWarning: Indexing with multiple keys (implicitly converted to a tuple of keys) will be deprecated, use a list instead.\n",
            "  after removing the cwd from sys.path.\n"
          ],
          "name": "stderr"
        },
        {
          "output_type": "execute_result",
          "data": {
            "text/html": [
              "<div>\n",
              "<style scoped>\n",
              "    .dataframe tbody tr th:only-of-type {\n",
              "        vertical-align: middle;\n",
              "    }\n",
              "\n",
              "    .dataframe tbody tr th {\n",
              "        vertical-align: top;\n",
              "    }\n",
              "\n",
              "    .dataframe thead th {\n",
              "        text-align: right;\n",
              "    }\n",
              "</style>\n",
              "<table border=\"1\" class=\"dataframe\">\n",
              "  <thead>\n",
              "    <tr style=\"text-align: right;\">\n",
              "      <th></th>\n",
              "      <th>DATE</th>\n",
              "      <th>PRCP</th>\n",
              "      <th>TMAX</th>\n",
              "      <th>TAVG</th>\n",
              "      <th>TMIN</th>\n",
              "    </tr>\n",
              "  </thead>\n",
              "  <tbody>\n",
              "    <tr>\n",
              "      <th>0</th>\n",
              "      <td>2008</td>\n",
              "      <td>15.441509</td>\n",
              "      <td>21.672642</td>\n",
              "      <td>15.886226</td>\n",
              "      <td>10.099811</td>\n",
              "    </tr>\n",
              "    <tr>\n",
              "      <th>1</th>\n",
              "      <td>2009</td>\n",
              "      <td>18.825926</td>\n",
              "      <td>22.163704</td>\n",
              "      <td>16.051481</td>\n",
              "      <td>9.937222</td>\n",
              "    </tr>\n",
              "    <tr>\n",
              "      <th>2</th>\n",
              "      <td>2010</td>\n",
              "      <td>45.476190</td>\n",
              "      <td>21.425476</td>\n",
              "      <td>15.519524</td>\n",
              "      <td>9.612619</td>\n",
              "    </tr>\n",
              "    <tr>\n",
              "      <th>3</th>\n",
              "      <td>2011</td>\n",
              "      <td>23.135294</td>\n",
              "      <td>21.840784</td>\n",
              "      <td>16.026863</td>\n",
              "      <td>10.212549</td>\n",
              "    </tr>\n",
              "    <tr>\n",
              "      <th>4</th>\n",
              "      <td>2012</td>\n",
              "      <td>19.696226</td>\n",
              "      <td>22.124528</td>\n",
              "      <td>16.113019</td>\n",
              "      <td>10.100755</td>\n",
              "    </tr>\n",
              "    <tr>\n",
              "      <th>5</th>\n",
              "      <td>2013</td>\n",
              "      <td>7.346939</td>\n",
              "      <td>22.631224</td>\n",
              "      <td>16.310612</td>\n",
              "      <td>9.987551</td>\n",
              "    </tr>\n",
              "    <tr>\n",
              "      <th>6</th>\n",
              "      <td>2014</td>\n",
              "      <td>24.258696</td>\n",
              "      <td>23.780870</td>\n",
              "      <td>17.464565</td>\n",
              "      <td>11.149565</td>\n",
              "    </tr>\n",
              "    <tr>\n",
              "      <th>7</th>\n",
              "      <td>2015</td>\n",
              "      <td>11.340816</td>\n",
              "      <td>24.296122</td>\n",
              "      <td>17.696122</td>\n",
              "      <td>11.095918</td>\n",
              "    </tr>\n",
              "    <tr>\n",
              "      <th>8</th>\n",
              "      <td>2016</td>\n",
              "      <td>24.181633</td>\n",
              "      <td>23.579184</td>\n",
              "      <td>17.142041</td>\n",
              "      <td>10.704694</td>\n",
              "    </tr>\n",
              "    <tr>\n",
              "      <th>9</th>\n",
              "      <td>2017</td>\n",
              "      <td>36.182000</td>\n",
              "      <td>23.623200</td>\n",
              "      <td>17.258600</td>\n",
              "      <td>10.892600</td>\n",
              "    </tr>\n",
              "    <tr>\n",
              "      <th>10</th>\n",
              "      <td>2018</td>\n",
              "      <td>21.382456</td>\n",
              "      <td>23.182632</td>\n",
              "      <td>16.993860</td>\n",
              "      <td>10.804561</td>\n",
              "    </tr>\n",
              "  </tbody>\n",
              "</table>\n",
              "</div>"
            ],
            "text/plain": [
              "    DATE       PRCP       TMAX       TAVG       TMIN\n",
              "0   2008  15.441509  21.672642  15.886226  10.099811\n",
              "1   2009  18.825926  22.163704  16.051481   9.937222\n",
              "2   2010  45.476190  21.425476  15.519524   9.612619\n",
              "3   2011  23.135294  21.840784  16.026863  10.212549\n",
              "4   2012  19.696226  22.124528  16.113019  10.100755\n",
              "5   2013   7.346939  22.631224  16.310612   9.987551\n",
              "6   2014  24.258696  23.780870  17.464565  11.149565\n",
              "7   2015  11.340816  24.296122  17.696122  11.095918\n",
              "8   2016  24.181633  23.579184  17.142041  10.704694\n",
              "9   2017  36.182000  23.623200  17.258600  10.892600\n",
              "10  2018  21.382456  23.182632  16.993860  10.804561"
            ]
          },
          "metadata": {
            "tags": []
          },
          "execution_count": 369
        }
      ]
    },
    {
      "cell_type": "code",
      "metadata": {
        "colab": {
          "base_uri": "https://localhost:8080/",
          "height": 444
        },
        "id": "Pqvpiriogpzw",
        "outputId": "b6b38f52-149d-4bfc-813c-755399ad9a20"
      },
      "source": [
        "df_SB.index = pd.to_datetime(df_SB[\"DATE\"], format='%Y-%m')\n",
        "df_SB = df_SB.dropna()\n",
        "dateTime = df_SB.index\n",
        "df_SB_year = df_SB.groupby(dateTime.year)[\"PRCP\", \"TMAX\", \"TAVG\", \"TMIN\"].mean()\n",
        "df_SB_year.reset_index()"
      ],
      "execution_count": 370,
      "outputs": [
        {
          "output_type": "stream",
          "text": [
            "/usr/local/lib/python3.7/dist-packages/ipykernel_launcher.py:4: FutureWarning: Indexing with multiple keys (implicitly converted to a tuple of keys) will be deprecated, use a list instead.\n",
            "  after removing the cwd from sys.path.\n"
          ],
          "name": "stderr"
        },
        {
          "output_type": "execute_result",
          "data": {
            "text/html": [
              "<div>\n",
              "<style scoped>\n",
              "    .dataframe tbody tr th:only-of-type {\n",
              "        vertical-align: middle;\n",
              "    }\n",
              "\n",
              "    .dataframe tbody tr th {\n",
              "        vertical-align: top;\n",
              "    }\n",
              "\n",
              "    .dataframe thead th {\n",
              "        text-align: right;\n",
              "    }\n",
              "</style>\n",
              "<table border=\"1\" class=\"dataframe\">\n",
              "  <thead>\n",
              "    <tr style=\"text-align: right;\">\n",
              "      <th></th>\n",
              "      <th>DATE</th>\n",
              "      <th>PRCP</th>\n",
              "      <th>TMAX</th>\n",
              "      <th>TAVG</th>\n",
              "      <th>TMIN</th>\n",
              "    </tr>\n",
              "  </thead>\n",
              "  <tbody>\n",
              "    <tr>\n",
              "      <th>0</th>\n",
              "      <td>2008</td>\n",
              "      <td>36.324242</td>\n",
              "      <td>22.643182</td>\n",
              "      <td>15.448788</td>\n",
              "      <td>8.252424</td>\n",
              "    </tr>\n",
              "    <tr>\n",
              "      <th>1</th>\n",
              "      <td>2009</td>\n",
              "      <td>25.977778</td>\n",
              "      <td>21.892222</td>\n",
              "      <td>15.258889</td>\n",
              "      <td>8.625417</td>\n",
              "    </tr>\n",
              "    <tr>\n",
              "      <th>2</th>\n",
              "      <td>2010</td>\n",
              "      <td>56.036986</td>\n",
              "      <td>20.976164</td>\n",
              "      <td>14.765616</td>\n",
              "      <td>8.556027</td>\n",
              "    </tr>\n",
              "    <tr>\n",
              "      <th>3</th>\n",
              "      <td>2011</td>\n",
              "      <td>29.593548</td>\n",
              "      <td>20.804839</td>\n",
              "      <td>14.701774</td>\n",
              "      <td>8.597097</td>\n",
              "    </tr>\n",
              "    <tr>\n",
              "      <th>4</th>\n",
              "      <td>2012</td>\n",
              "      <td>24.093103</td>\n",
              "      <td>21.981609</td>\n",
              "      <td>15.351954</td>\n",
              "      <td>8.721264</td>\n",
              "    </tr>\n",
              "    <tr>\n",
              "      <th>5</th>\n",
              "      <td>2013</td>\n",
              "      <td>7.864835</td>\n",
              "      <td>22.580769</td>\n",
              "      <td>15.411868</td>\n",
              "      <td>8.242527</td>\n",
              "    </tr>\n",
              "    <tr>\n",
              "      <th>6</th>\n",
              "      <td>2014</td>\n",
              "      <td>24.260465</td>\n",
              "      <td>23.985814</td>\n",
              "      <td>16.901279</td>\n",
              "      <td>9.815698</td>\n",
              "    </tr>\n",
              "    <tr>\n",
              "      <th>7</th>\n",
              "      <td>2015</td>\n",
              "      <td>9.718293</td>\n",
              "      <td>23.968049</td>\n",
              "      <td>16.830732</td>\n",
              "      <td>9.692927</td>\n",
              "    </tr>\n",
              "    <tr>\n",
              "      <th>8</th>\n",
              "      <td>2016</td>\n",
              "      <td>27.528571</td>\n",
              "      <td>23.005595</td>\n",
              "      <td>16.368095</td>\n",
              "      <td>9.730238</td>\n",
              "    </tr>\n",
              "    <tr>\n",
              "      <th>9</th>\n",
              "      <td>2017</td>\n",
              "      <td>36.467857</td>\n",
              "      <td>23.067738</td>\n",
              "      <td>16.381548</td>\n",
              "      <td>9.695357</td>\n",
              "    </tr>\n",
              "    <tr>\n",
              "      <th>10</th>\n",
              "      <td>2018</td>\n",
              "      <td>22.246154</td>\n",
              "      <td>22.944103</td>\n",
              "      <td>16.394103</td>\n",
              "      <td>9.842436</td>\n",
              "    </tr>\n",
              "  </tbody>\n",
              "</table>\n",
              "</div>"
            ],
            "text/plain": [
              "    DATE       PRCP       TMAX       TAVG      TMIN\n",
              "0   2008  36.324242  22.643182  15.448788  8.252424\n",
              "1   2009  25.977778  21.892222  15.258889  8.625417\n",
              "2   2010  56.036986  20.976164  14.765616  8.556027\n",
              "3   2011  29.593548  20.804839  14.701774  8.597097\n",
              "4   2012  24.093103  21.981609  15.351954  8.721264\n",
              "5   2013   7.864835  22.580769  15.411868  8.242527\n",
              "6   2014  24.260465  23.985814  16.901279  9.815698\n",
              "7   2015   9.718293  23.968049  16.830732  9.692927\n",
              "8   2016  27.528571  23.005595  16.368095  9.730238\n",
              "9   2017  36.467857  23.067738  16.381548  9.695357\n",
              "10  2018  22.246154  22.944103  16.394103  9.842436"
            ]
          },
          "metadata": {
            "tags": []
          },
          "execution_count": 370
        }
      ]
    },
    {
      "cell_type": "code",
      "metadata": {
        "id": "v_9gtKl1hl4N"
      },
      "source": [
        "df_merge1 = df_appplications_byYear.merge(df_yield, how='inner', left_on=\"Year\", right_on=\"year\")\n",
        "df_merge1[\"Applications\"] = df_merge1[\"Value_x\"]\n",
        "df_merge1[\"yield\"] = df_merge1[\"Value_y\"]\n",
        "df_merge2 = df_merge1.merge(df_area_planted, how='inner', left_on=\"year\", right_on=\"year\")\n",
        "df_merge2[\"Applications\"] = df_merge1[\"Value_x\"]\n",
        "df_merge3 = df_merge2.merge(df_Monterey_year, how='inner', left_on=\"year\", right_on=\"DATE\") #Not enough available Data\n",
        "df_merge3[\"Area Planted\"] = df_merge2[\"Value\"]\n",
        "Monterey_train = df_merge3[['year', 'Applications', 'yield', 'PRCP', \"TMAX\", \"TAVG\", \"TMIN\"]]\n"
      ],
      "execution_count": 371,
      "outputs": []
    },
    {
      "cell_type": "code",
      "metadata": {
        "id": "-6Lz09V1mOtn"
      },
      "source": [
        "from sklearn.preprocessing import StandardScaler, MinMaxScaler, MaxAbsScaler, OneHotEncoder\n",
        "from sklearn.neighbors import KNeighborsRegressor\n",
        "from sklearn.pipeline import make_pipeline\n",
        "from sklearn.compose import make_column_transformer\n",
        "from sklearn.metrics import mean_squared_error, r2_score"
      ],
      "execution_count": 372,
      "outputs": []
    },
    {
      "cell_type": "code",
      "metadata": {
        "id": "TyA4jPxgmP39"
      },
      "source": [
        "# scaling 0: Standardizing\n",
        "# scaling 1: Min Max\n",
        "# scaling 2: Max Abs\n",
        "# selectedMetric: 'minkowski', 'euclidean', 'manhattan', 'chebyshev', 'wminkowski', 'seuclidean', 'mahalanobis' <- change p-features of minkowski too?\n",
        "def yieldPredictor(features: list, selectedMetric: str, scaling: int, k: int = 2):\n",
        "  # pipeline and fit our KNN model\n",
        "  transformer = None\n",
        "  if scaling == 0:\n",
        "    transformer = (StandardScaler(), features)\n",
        "  elif scaling == 1:\n",
        "    transformer = (MinMaxScaler(), features)\n",
        "  elif scaling == 2:\n",
        "    transformer = (MaxAbsScaler(), features)\n",
        "  \n",
        "  ct_train = make_column_transformer(\n",
        "      transformer,\n",
        "      remainder=\"drop\"\n",
        "  )\n",
        "  pipeline = make_pipeline(\n",
        "      ct_train,\n",
        "      KNeighborsRegressor(n_neighbors=k, metric=selectedMetric)\n",
        "  )\n",
        "\n",
        "  pipeline.fit(X=Monterey_train[features], y=Monterey_train[\"yield\"])\n",
        "\n",
        "  # do our prediction\n",
        "  yield_predicted = pipeline.predict(X=Monterey_train[features])\n",
        "\n",
        "  # get RMSE and R^2\n",
        "  rmse = np.sqrt(mean_squared_error(Monterey_train[\"yield\"], yield_predicted))\n",
        "  r2 = r2_score(Monterey_train[\"yield\"], yield_predicted)\n",
        "\n",
        "  return (rmse, r2)"
      ],
      "execution_count": 373,
      "outputs": []
    },
    {
      "cell_type": "code",
      "metadata": {
        "colab": {
          "base_uri": "https://localhost:8080/"
        },
        "id": "nGeONl57m-Ym",
        "outputId": "068e7194-6507-4e2e-da8e-1885598f5ee9"
      },
      "source": [
        "# physical features \n",
        "Features = [\"Applications\", \"TMAX\", \"PRCP\", \"TAVG\", \"TMIN\"]\n",
        "\n",
        "# run our function - outputs RMSE (minimize), R^2 (maximize)\n",
        "print(\"Minkowski, StandardScaler:\", yieldPredictor(Features, 'minkowski', 0))\n",
        "print(\"Minkowski, MinMaxScaler  :\", yieldPredictor(Features, 'minkowski', 1))\n",
        "print(\"Minkowski, MaxAbsScaler  :\", yieldPredictor(Features, 'minkowski', 2))\n",
        "print(\"Euclidean, StandardScaler:\", yieldPredictor(Features, 'euclidean', 0))\n",
        "print(\"Euclidean, MinMaxScaler  :\", yieldPredictor(Features, 'euclidean', 1))\n",
        "print(\"Euclidean, MaxAbsScaler  :\", yieldPredictor(Features, 'euclidean', 2))\n",
        "print(\"Manhattan, StandardScaler:\", yieldPredictor(Features, 'manhattan', 0))\n",
        "print(\"Manhattan, MinMaxScaler  :\", yieldPredictor(Features, 'manhattan', 1))\n",
        "print(\"Manhattan, MaxAbsScaler  :\", yieldPredictor(Features, 'manhattan', 2))\n",
        "\n",
        "# it looks like the \"Euclidean\" distance method and \"MaxAbsScaler\" scaling method\n",
        "# give the best accuracy (smallest RMSE, largest R^2). "
      ],
      "execution_count": 374,
      "outputs": [
        {
          "output_type": "stream",
          "text": [
            "Minkowski, StandardScaler: (15.155444566227676, 0.4143426294820717)\n",
            "Minkowski, MinMaxScaler  : (15.155444566227676, 0.4143426294820717)\n",
            "Minkowski, MaxAbsScaler  : (10.231690964840562, 0.7330677290836654)\n",
            "Euclidean, StandardScaler: (15.155444566227676, 0.4143426294820717)\n",
            "Euclidean, MinMaxScaler  : (15.155444566227676, 0.4143426294820717)\n",
            "Euclidean, MaxAbsScaler  : (10.231690964840562, 0.7330677290836654)\n",
            "Manhattan, StandardScaler: (17.89727632909544, 0.18326693227091628)\n",
            "Manhattan, MinMaxScaler  : (17.89727632909544, 0.18326693227091628)\n",
            "Manhattan, MaxAbsScaler  : (14.252192813739224, 0.4820717131474104)\n"
          ],
          "name": "stdout"
        }
      ]
    },
    {
      "cell_type": "code",
      "metadata": {
        "id": "dE5obcp9oGuY"
      },
      "source": [
        "X_train = Monterey_train[[\"Applications\", \"TMAX\", \"PRCP\", \"TAVG\", \"TMIN\"]]\n",
        "y_train = Monterey_train[\"yield\"]\n",
        "X_test = Monterey_train[[\"Applications\", \"TMAX\", \"PRCP\", \"TAVG\", \"TMIN\"]] ##I understand this is not the way to run the model, but unfortunately I did not grab data \n",
        "y_test = Monterey_train[\"yield\"]                                          ##that worked well to determine Crop Yield Output. \n",
        "\n",
        "def modelK(k, errorType):\n",
        "  \n",
        "  pipeline = make_pipeline(\n",
        "      StandardScaler(with_mean=False),\n",
        "      KNeighborsRegressor(n_neighbors=k, metric='euclidean')\n",
        "  )\n",
        "\n",
        "  pipeline.fit(X_train, y_train)\n",
        "  \n",
        "  if errorType == 'train':\n",
        "    y_train_ = pipeline.predict(X_train)\n",
        "    mse = mean_squared_error(y_train, y_train_)\n",
        "    rmse = np.sqrt(mse)\n",
        "    return rmse\n",
        "  elif errorType == 'test':\n",
        "    y_test_ = pipeline.predict(X_test)\n",
        "    mse = mean_squared_error(y_test, y_test_)\n",
        "    rmse = np.sqrt(mse)\n",
        "    return rmse"
      ],
      "execution_count": 375,
      "outputs": []
    },
    {
      "cell_type": "code",
      "metadata": {
        "id": "3mp_h8lVo9eV"
      },
      "source": [
        "df_all = pd.DataFrame(list(range(1,4)), columns = ['kVals'])"
      ],
      "execution_count": 376,
      "outputs": []
    },
    {
      "cell_type": "code",
      "metadata": {
        "id": "aRQklLKZo-v4"
      },
      "source": [
        "trainRMSE = []\n",
        "testRMSE = []\n",
        "for k in range(1, 4):\n",
        "  trainRMSE.append(modelK(k, 'train'))\n",
        "  testRMSE.append(modelK(k, 'test'))"
      ],
      "execution_count": 377,
      "outputs": []
    },
    {
      "cell_type": "code",
      "metadata": {
        "id": "ri5zTMy0qvrh"
      },
      "source": [
        "df_train = pd.DataFrame(trainRMSE, columns = ['trainRMSE'])\n",
        "df_test = pd.DataFrame(testRMSE, columns = ['testRMSE'])\n",
        "df_all = df_all.merge(df_train, left_index=True, right_index=True)\n",
        "df_all = df_all.merge(df_test, left_index=True, right_index=True)"
      ],
      "execution_count": 378,
      "outputs": []
    },
    {
      "cell_type": "code",
      "metadata": {
        "colab": {
          "base_uri": "https://localhost:8080/",
          "height": 312
        },
        "id": "h5vtMnCMqwuS",
        "outputId": "2cbf58a0-0ed3-4db6-b3cd-9b1271132d9b"
      },
      "source": [
        "plt.xlabel(\"k\")\n",
        "plt.ylabel(\"Root Mean Squared Error\")\n",
        "plt.plot(list(range(1,4)), testRMSE, label=\"Estimated Test Error\")\n",
        "plt.plot(list(range(1,4)), trainRMSE, label=\"Estimated Training Error\")\n",
        "\n",
        "plt.title(\"RMSE vs. K\")"
      ],
      "execution_count": 379,
      "outputs": [
        {
          "output_type": "execute_result",
          "data": {
            "text/plain": [
              "Text(0.5, 1.0, 'RMSE vs. K')"
            ]
          },
          "metadata": {
            "tags": []
          },
          "execution_count": 379
        },
        {
          "output_type": "display_data",
          "data": {
            "image/png": "[encoded data removed]",
            "text/plain": [
              "<Figure size 432x288 with 1 Axes>"
            ]
          },
          "metadata": {
            "tags": [],
            "needs_background": "light"
          }
        }
      ]
    },
    {
      "cell_type": "markdown",
      "metadata": {
        "id": "y1FdZxRdrEOP"
      },
      "source": [
        "K is optimal @ 2 for the data that I have presented. "
      ]
    }
  ]
}